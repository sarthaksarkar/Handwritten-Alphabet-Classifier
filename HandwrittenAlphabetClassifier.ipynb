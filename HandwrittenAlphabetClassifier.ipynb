{
 "cells": [
  {
   "cell_type": "markdown",
   "metadata": {},
   "source": [
    "Importing data in the form of binary\n"
   ]
  },
  {
   "cell_type": "code",
   "execution_count": 20,
   "metadata": {},
   "outputs": [
    {
     "name": "stdout",
     "output_type": "stream",
     "text": [
      "(541, 64)\n"
     ]
    }
   ],
   "source": [
    "from sklearn.datasets import load_digits\n",
    "from sklearn.preprocessing import binarize\n",
    "import numpy as np\n",
    "\n",
    "# Load the digits dataset\n",
    "digits = load_digits()\n",
    "\n",
    "# Separate features (X) and target labels (y)\n",
    "X = digits.data\n",
    "y = digits.target\n",
    "\n",
    "# Filter out digits 2, 3, and 4\n",
    "filtered_indices = np.where((y == 2) | (y == 3) | (y == 4))\n",
    "X_filtered = X[filtered_indices]\n",
    "y_filtered = y[filtered_indices]\n",
    "\n",
    "# Now you have the samples corresponding to digits 2, 3, and 4 in X_filtered and y_filtered\n",
    "X_binary = binarize(X_filtered)\n",
    "Pi=np.array([[1/3],[1/3],[1/3]])\n",
    "P=np.random.random((3,64))\n",
    "print(X_binary.shape)\n"
   ]
  },
  {
   "cell_type": "markdown",
   "metadata": {},
   "source": [
    "Defining gamma,Pi and P"
   ]
  },
  {
   "cell_type": "code",
   "execution_count": 12,
   "metadata": {},
   "outputs": [],
   "source": [
    "def f(p,x):\n",
    "    array_f=(p**x)*((1-p)**(1-x))\n",
    "    return np.prod(array_f.astype(np.float64))\n",
    "def gamma(Pi,P,n,X):\n",
    "    gamma_f=np.empty((n,3))\n",
    "    for i in range(n):\n",
    "        denominator=0\n",
    "        for j in range(3):\n",
    "            denominator=denominator+Pi[j]*f(P[j],X[i])\n",
    "        for g in range(3):\n",
    "            gamma_f[i][g]=(Pi[g]*f(P[g],X[i]))/denominator\n",
    "    return gamma_f\n",
    "def Pupdate(gamma_f,X,P,n):\n",
    "    for j in range(P.shape[0]):\n",
    "        numerator=0\n",
    "        denominator=0\n",
    "        for i in range(n):\n",
    "            numerator=numerator+gamma_f[i][j]*X[i]\n",
    "            denominator=denominator+gamma_f[i][j]*X[i]+gamma_f[i][j]*(1-X[i])\n",
    "        P[j]=numerator/denominator\n",
    "    return P\n",
    "def Piupdate(gamma_f,Pi):\n",
    "    n=gamma_f.shape[0]\n",
    "    k=gamma_f.shape[1]\n",
    "    N=0\n",
    "    for i in range(n):\n",
    "        for j in range(k):\n",
    "            N=N+gamma_f[i][j]\n",
    "    for g in range(k):\n",
    "        numerator=0\n",
    "        for i in range(n):\n",
    "            numerator=numerator+gamma_f[i][g]\n",
    "        Pi[g]=numerator/N\n",
    "    return Pi"
   ]
  },
  {
   "cell_type": "markdown",
   "metadata": {},
   "source": [
    "Doing EM steps"
   ]
  },
  {
   "cell_type": "code",
   "execution_count": 13,
   "metadata": {},
   "outputs": [
    {
     "name": "stderr",
     "output_type": "stream",
     "text": [
      "C:\\Users\\Dell\\AppData\\Local\\Temp\\ipykernel_13172\\1442387755.py:11: DeprecationWarning: Conversion of an array with ndim > 0 to a scalar is deprecated, and will error in future. Ensure you extract a single element from your array before performing this operation. (Deprecated NumPy 1.25.)\n",
      "  gamma_f[i][g]=(Pi[g]*f(P[g],X[i]))/denominator\n"
     ]
    },
    {
     "name": "stdout",
     "output_type": "stream",
     "text": [
      "[[0.28986572]\n",
      " [0.38481216]\n",
      " [0.32532212]]\n"
     ]
    }
   ],
   "source": [
    "\n",
    "for i in range(2000):\n",
    "    gamma_f=gamma(Pi,P,541,X_binary)\n",
    "    P=Pupdate(gamma_f,X_binary,P,541)\n",
    "    Pi=Piupdate(gamma_f,Pi)\n",
    "print(Pi)"
   ]
  },
  {
   "cell_type": "markdown",
   "metadata": {},
   "source": [
    "Showing the obtained data"
   ]
  },
  {
   "cell_type": "code",
   "execution_count": 14,
   "metadata": {},
   "outputs": [
    {
     "data": {
      "text/html": [
       "<div>\n",
       "<style scoped>\n",
       "    .dataframe tbody tr th:only-of-type {\n",
       "        vertical-align: middle;\n",
       "    }\n",
       "\n",
       "    .dataframe tbody tr th {\n",
       "        vertical-align: top;\n",
       "    }\n",
       "\n",
       "    .dataframe thead th {\n",
       "        text-align: right;\n",
       "    }\n",
       "</style>\n",
       "<table border=\"1\" class=\"dataframe\">\n",
       "  <thead>\n",
       "    <tr style=\"text-align: right;\">\n",
       "      <th></th>\n",
       "      <th>0</th>\n",
       "    </tr>\n",
       "  </thead>\n",
       "  <tbody>\n",
       "    <tr>\n",
       "      <th>0</th>\n",
       "      <td>0.289866</td>\n",
       "    </tr>\n",
       "    <tr>\n",
       "      <th>1</th>\n",
       "      <td>0.384812</td>\n",
       "    </tr>\n",
       "    <tr>\n",
       "      <th>2</th>\n",
       "      <td>0.325322</td>\n",
       "    </tr>\n",
       "  </tbody>\n",
       "</table>\n",
       "</div>"
      ],
      "text/plain": [
       "          0\n",
       "0  0.289866\n",
       "1  0.384812\n",
       "2  0.325322"
      ]
     },
     "execution_count": 14,
     "metadata": {},
     "output_type": "execute_result"
    }
   ],
   "source": [
    "import pandas as pd\n",
    "data=pd.DataFrame(Pi)\n",
    "data"
   ]
  },
  {
   "cell_type": "code",
   "execution_count": 15,
   "metadata": {},
   "outputs": [
    {
     "data": {
      "text/html": [
       "<div>\n",
       "<style scoped>\n",
       "    .dataframe tbody tr th:only-of-type {\n",
       "        vertical-align: middle;\n",
       "    }\n",
       "\n",
       "    .dataframe tbody tr th {\n",
       "        vertical-align: top;\n",
       "    }\n",
       "\n",
       "    .dataframe thead th {\n",
       "        text-align: right;\n",
       "    }\n",
       "</style>\n",
       "<table border=\"1\" class=\"dataframe\">\n",
       "  <thead>\n",
       "    <tr style=\"text-align: right;\">\n",
       "      <th></th>\n",
       "      <th>0</th>\n",
       "      <th>1</th>\n",
       "      <th>2</th>\n",
       "      <th>3</th>\n",
       "      <th>4</th>\n",
       "      <th>5</th>\n",
       "      <th>6</th>\n",
       "      <th>7</th>\n",
       "      <th>8</th>\n",
       "      <th>9</th>\n",
       "      <th>...</th>\n",
       "      <th>54</th>\n",
       "      <th>55</th>\n",
       "      <th>56</th>\n",
       "      <th>57</th>\n",
       "      <th>58</th>\n",
       "      <th>59</th>\n",
       "      <th>60</th>\n",
       "      <th>61</th>\n",
       "      <th>62</th>\n",
       "      <th>63</th>\n",
       "    </tr>\n",
       "  </thead>\n",
       "  <tbody>\n",
       "    <tr>\n",
       "      <th>0</th>\n",
       "      <td>0.0</td>\n",
       "      <td>0.476614</td>\n",
       "      <td>0.952446</td>\n",
       "      <td>0.980869</td>\n",
       "      <td>0.955362</td>\n",
       "      <td>0.376857</td>\n",
       "      <td>0.022217</td>\n",
       "      <td>0.000000</td>\n",
       "      <td>0.006377</td>\n",
       "      <td>0.848412</td>\n",
       "      <td>...</td>\n",
       "      <td>0.902388</td>\n",
       "      <td>0.219396</td>\n",
       "      <td>0.006377</td>\n",
       "      <td>0.426687</td>\n",
       "      <td>0.958203</td>\n",
       "      <td>0.980869</td>\n",
       "      <td>0.974493</td>\n",
       "      <td>0.937449</td>\n",
       "      <td>0.842515</td>\n",
       "      <td>0.287589</td>\n",
       "    </tr>\n",
       "    <tr>\n",
       "      <th>1</th>\n",
       "      <td>0.0</td>\n",
       "      <td>0.323074</td>\n",
       "      <td>0.963769</td>\n",
       "      <td>1.000000</td>\n",
       "      <td>1.000000</td>\n",
       "      <td>0.916991</td>\n",
       "      <td>0.223438</td>\n",
       "      <td>0.004803</td>\n",
       "      <td>0.009607</td>\n",
       "      <td>0.691482</td>\n",
       "      <td>...</td>\n",
       "      <td>0.852565</td>\n",
       "      <td>0.084516</td>\n",
       "      <td>0.000000</td>\n",
       "      <td>0.202168</td>\n",
       "      <td>0.949825</td>\n",
       "      <td>1.000000</td>\n",
       "      <td>1.000000</td>\n",
       "      <td>0.960648</td>\n",
       "      <td>0.455747</td>\n",
       "      <td>0.095594</td>\n",
       "    </tr>\n",
       "    <tr>\n",
       "      <th>2</th>\n",
       "      <td>0.0</td>\n",
       "      <td>0.000000</td>\n",
       "      <td>0.153406</td>\n",
       "      <td>0.937500</td>\n",
       "      <td>0.994318</td>\n",
       "      <td>0.448866</td>\n",
       "      <td>0.039773</td>\n",
       "      <td>0.017046</td>\n",
       "      <td>0.000000</td>\n",
       "      <td>0.017041</td>\n",
       "      <td>...</td>\n",
       "      <td>0.022727</td>\n",
       "      <td>0.000000</td>\n",
       "      <td>0.000000</td>\n",
       "      <td>0.011364</td>\n",
       "      <td>0.119315</td>\n",
       "      <td>0.897727</td>\n",
       "      <td>0.977273</td>\n",
       "      <td>0.426142</td>\n",
       "      <td>0.000000</td>\n",
       "      <td>0.000000</td>\n",
       "    </tr>\n",
       "  </tbody>\n",
       "</table>\n",
       "<p>3 rows × 64 columns</p>\n",
       "</div>"
      ],
      "text/plain": [
       "    0         1         2         3         4         5         6         7   \\\n",
       "0  0.0  0.476614  0.952446  0.980869  0.955362  0.376857  0.022217  0.000000   \n",
       "1  0.0  0.323074  0.963769  1.000000  1.000000  0.916991  0.223438  0.004803   \n",
       "2  0.0  0.000000  0.153406  0.937500  0.994318  0.448866  0.039773  0.017046   \n",
       "\n",
       "         8         9   ...        54        55        56        57        58  \\\n",
       "0  0.006377  0.848412  ...  0.902388  0.219396  0.006377  0.426687  0.958203   \n",
       "1  0.009607  0.691482  ...  0.852565  0.084516  0.000000  0.202168  0.949825   \n",
       "2  0.000000  0.017041  ...  0.022727  0.000000  0.000000  0.011364  0.119315   \n",
       "\n",
       "         59        60        61        62        63  \n",
       "0  0.980869  0.974493  0.937449  0.842515  0.287589  \n",
       "1  1.000000  1.000000  0.960648  0.455747  0.095594  \n",
       "2  0.897727  0.977273  0.426142  0.000000  0.000000  \n",
       "\n",
       "[3 rows x 64 columns]"
      ]
     },
     "execution_count": 15,
     "metadata": {},
     "output_type": "execute_result"
    }
   ],
   "source": [
    "data2=pd.DataFrame(P)\n",
    "data2"
   ]
  },
  {
   "cell_type": "code",
   "execution_count": 16,
   "metadata": {},
   "outputs": [
    {
     "data": {
      "image/png": "[encoded data removed]",
      "text/plain": [
       "<Figure size 1500x1500 with 3 Axes>"
      ]
     },
     "metadata": {},
     "output_type": "display_data"
    }
   ],
   "source": [
    "# Visualize results\n",
    "import matplotlib.pyplot as plt\n",
    "labels=[2,3,4]\n",
    "fig, ax = plt.subplots(nrows=1, ncols=3, figsize=(15, 15), dpi=100)\n",
    "for i in range(3):\n",
    "    ax[i].imshow(P[i].reshape(8,8), cmap='gray')\n",
    "    # ax[i].set_title('Parameters class: {}\\n pi = {:0.3f}'.format(labels[i], Pi[i]), fontsize=3 ** (-1) // 0.02)\n",
    "    ax[i].axis('off')\n",
    "plt.show()"
   ]
  },
  {
   "cell_type": "code",
   "execution_count": 17,
   "metadata": {},
   "outputs": [
    {
     "data": {
      "image/png": "[encoded data removed]",
      "text/plain": [
       "<Figure size 1500x1500 with 3 Axes>"
      ]
     },
     "metadata": {},
     "output_type": "display_data"
    }
   ],
   "source": [
    "# Visualize results\n",
    "import matplotlib.pyplot as plt\n",
    "labels=[2,3,4]\n",
    "fig, ax = plt.subplots(nrows=1, ncols=3, figsize=(15, 15), dpi=100)\n",
    "for i in range(3):\n",
    "    ax[i].imshow(X_filtered[i].reshape(8,8), cmap='gray')\n",
    "    # ax[i].set_title('Parameters class: {}\\n pi = {:0.3f}'.format(labels[i], Pi[i]), fontsize=3 ** (-1) // 0.02)\n",
    "    ax[i].axis('off')\n",
    "plt.show()"
   ]
  },
  {
   "cell_type": "code",
   "execution_count": 18,
   "metadata": {},
   "outputs": [
    {
     "data": {
      "image/png": "[encoded data removed]",
      "text/plain": [
       "<Figure size 1500x1500 with 3 Axes>"
      ]
     },
     "metadata": {},
     "output_type": "display_data"
    }
   ],
   "source": [
    "for i in range(3):\n",
    "    for j in range(64):\n",
    "        if P[i][j]<0.5:\n",
    "            P[i][j]=0\n",
    "        else:\n",
    "            P[i][j]=1\n",
    "# Visualize results\n",
    "import matplotlib.pyplot as plt\n",
    "labels=[2,3,4]\n",
    "fig, ax = plt.subplots(nrows=1, ncols=3, figsize=(15, 15), dpi=100)\n",
    "for i in range(3):\n",
    "    ax[i].imshow(P[i].reshape(8,8), cmap='gray')\n",
    "    # ax[i].set_title('Parameters class: {}\\n pi = {:0.3f}'.format(labels[i], Pi[i]), fontsize=3 ** (-1) // 0.02)\n",
    "    ax[i].axis('off')\n",
    "plt.show()\n"
   ]
  }
 ],
 "metadata": {
  "kernelspec": {
   "display_name": "Python 3",
   "language": "python",
   "name": "python3"
  },
  "language_info": {
   "codemirror_mode": {
    "name": "ipython",
    "version": 3
   },
   "file_extension": ".py",
   "mimetype": "text/x-python",
   "name": "python",
   "nbconvert_exporter": "python",
   "pygments_lexer": "ipython3",
   "version": "3.11.4"
  }
 },
 "nbformat": 4,
 "nbformat_minor": 2
}
